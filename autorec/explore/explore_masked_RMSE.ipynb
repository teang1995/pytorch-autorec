{
 "cells": [
  {
   "cell_type": "code",
   "execution_count": 1,
   "id": "6ce498cb",
   "metadata": {},
   "outputs": [],
   "source": [
    "import numpy as np"
   ]
  },
  {
   "cell_type": "code",
   "execution_count": 2,
   "id": "0375dbef",
   "metadata": {},
   "outputs": [
    {
     "data": {
      "text/plain": [
       "array([[0, 2, 3, 2, 3, 0, 2, 1, 3, 4, 2, 3, 3, 2, 2, 1, 0, 3, 3, 0],\n",
       "       [0, 2, 4, 0, 2, 2, 2, 2, 1, 3, 0, 1, 1, 4, 4, 0, 0, 4, 3, 3],\n",
       "       [3, 4, 2, 4, 1, 4, 4, 2, 3, 1, 3, 0, 3, 3, 2, 1, 0, 4, 4, 2],\n",
       "       [2, 0, 3, 3, 4, 4, 2, 2, 0, 4, 2, 2, 2, 3, 0, 4, 0, 4, 0, 2],\n",
       "       [2, 3, 0, 2, 0, 2, 1, 0, 1, 0, 2, 2, 0, 4, 4, 0, 0, 3, 2, 1],\n",
       "       [1, 1, 2, 1, 4, 3, 2, 1, 0, 0, 3, 2, 3, 3, 2, 4, 4, 3, 0, 2],\n",
       "       [1, 2, 0, 4, 3, 3, 2, 2, 4, 3, 1, 3, 2, 3, 2, 3, 3, 0, 2, 0],\n",
       "       [4, 2, 3, 4, 2, 4, 1, 4, 4, 4, 1, 0, 3, 4, 2, 3, 0, 4, 4, 2],\n",
       "       [4, 1, 0, 3, 4, 2, 0, 3, 2, 4, 1, 0, 0, 0, 2, 4, 3, 4, 3, 2],\n",
       "       [2, 3, 4, 2, 2, 2, 0, 1, 1, 1, 2, 0, 3, 1, 0, 2, 2, 3, 3, 3]])"
      ]
     },
     "execution_count": 2,
     "metadata": {},
     "output_type": "execute_result"
    }
   ],
   "source": [
    "# 모델의 예측값이라 가정\n",
    "prediction = np.random.randint(5, size=(10, 20))\n",
    "prediction"
   ]
  },
  {
   "cell_type": "code",
   "execution_count": 3,
   "id": "051bda97",
   "metadata": {},
   "outputs": [
    {
     "data": {
      "text/plain": [
       "array([[1, 1, 3, 1, 0, 4, 0, 2, 0, 4, 4, 0, 1, 0, 3, 1, 4, 1, 4, 0],\n",
       "       [2, 0, 3, 2, 4, 0, 2, 1, 2, 3, 2, 1, 0, 2, 1, 0, 4, 4, 4, 0],\n",
       "       [0, 4, 3, 1, 0, 4, 4, 0, 1, 2, 1, 0, 4, 1, 1, 3, 1, 4, 3, 4],\n",
       "       [0, 1, 3, 1, 3, 2, 2, 4, 1, 4, 2, 2, 4, 0, 0, 0, 0, 1, 1, 0],\n",
       "       [4, 1, 0, 3, 0, 3, 3, 4, 0, 1, 0, 4, 1, 4, 4, 1, 0, 4, 0, 0],\n",
       "       [4, 0, 3, 4, 2, 1, 4, 3, 4, 4, 1, 3, 4, 4, 4, 0, 3, 3, 0, 0],\n",
       "       [2, 1, 2, 0, 2, 3, 3, 2, 0, 0, 1, 3, 4, 0, 3, 2, 4, 1, 2, 2],\n",
       "       [0, 1, 3, 2, 3, 4, 3, 3, 4, 2, 0, 0, 0, 3, 4, 0, 1, 3, 3, 2],\n",
       "       [4, 1, 2, 3, 0, 2, 1, 2, 3, 3, 1, 4, 4, 4, 3, 3, 1, 1, 4, 3],\n",
       "       [4, 3, 1, 2, 3, 0, 4, 0, 1, 2, 3, 3, 2, 3, 4, 1, 0, 4, 1, 0]])"
      ]
     },
     "execution_count": 3,
     "metadata": {},
     "output_type": "execute_result"
    }
   ],
   "source": [
    "# 라벨이라 가정\n",
    "label = np.random.randint(5, size=(10, 20))\n",
    "label"
   ]
  },
  {
   "cell_type": "code",
   "execution_count": 4,
   "id": "e5c60be1",
   "metadata": {
    "scrolled": false
   },
   "outputs": [
    {
     "data": {
      "text/plain": [
       "array([[-1,  1,  0,  1,  3, -4,  2, -1,  3,  0, -2,  3,  2,  2, -1,  0,\n",
       "        -4,  2, -1,  0],\n",
       "       [-2,  2,  1, -2, -2,  2,  0,  1, -1,  0, -2,  0,  1,  2,  3,  0,\n",
       "        -4,  0, -1,  3],\n",
       "       [ 3,  0, -1,  3,  1,  0,  0,  2,  2, -1,  2,  0, -1,  2,  1, -2,\n",
       "        -1,  0,  1, -2],\n",
       "       [ 2, -1,  0,  2,  1,  2,  0, -2, -1,  0,  0,  0, -2,  3,  0,  4,\n",
       "         0,  3, -1,  2],\n",
       "       [-2,  2,  0, -1,  0, -1, -2, -4,  1, -1,  2, -2, -1,  0,  0, -1,\n",
       "         0, -1,  2,  1],\n",
       "       [-3,  1, -1, -3,  2,  2, -2, -2, -4, -4,  2, -1, -1, -1, -2,  4,\n",
       "         1,  0,  0,  2],\n",
       "       [-1,  1, -2,  4,  1,  0, -1,  0,  4,  3,  0,  0, -2,  3, -1,  1,\n",
       "        -1, -1,  0, -2],\n",
       "       [ 4,  1,  0,  2, -1,  0, -2,  1,  0,  2,  1,  0,  3,  1, -2,  3,\n",
       "        -1,  1,  1,  0],\n",
       "       [ 0,  0, -2,  0,  4,  0, -1,  1, -1,  1,  0, -4, -4, -4, -1,  1,\n",
       "         2,  3, -1, -1],\n",
       "       [-2,  0,  3,  0, -1,  2, -4,  1,  0, -1, -1, -3,  1, -2, -4,  1,\n",
       "         2, -1,  2,  3]])"
      ]
     },
     "execution_count": 4,
     "metadata": {},
     "output_type": "execute_result"
    }
   ],
   "source": [
    "n_observed = np.count_nonzero(label)\n",
    "diff = prediction - label\n",
    "diff"
   ]
  },
  {
   "cell_type": "code",
   "execution_count": 5,
   "id": "b3dc1cfe",
   "metadata": {},
   "outputs": [
    {
     "name": "stdout",
     "output_type": "stream",
     "text": [
      "154\n"
     ]
    }
   ],
   "source": [
    "print(n_observed)"
   ]
  },
  {
   "cell_type": "code",
   "execution_count": 6,
   "id": "40c5c46a",
   "metadata": {},
   "outputs": [
    {
     "data": {
      "text/plain": [
       "array([ 85,  67,  49,  62,  48, 100,  70,  58,  89,  86])"
      ]
     },
     "execution_count": 6,
     "metadata": {},
     "output_type": "execute_result"
    }
   ],
   "source": [
    "square_diff = np.einsum('BH, BH->B', diff, diff)\n",
    "square_diff"
   ]
  },
  {
   "cell_type": "code",
   "execution_count": 7,
   "id": "3262d72d",
   "metadata": {
    "scrolled": true
   },
   "outputs": [
    {
     "data": {
      "text/plain": [
       "2.15322168769582"
      ]
     },
     "execution_count": 7,
     "metadata": {},
     "output_type": "execute_result"
    }
   ],
   "source": [
    "loss = np.sqrt(np.sum(square_diff)/ n_observed)\n",
    "loss"
   ]
  },
  {
   "cell_type": "code",
   "execution_count": 14,
   "id": "5289bb93",
   "metadata": {},
   "outputs": [],
   "source": [
    "def masked_rmse(prediction, y):\n",
    "    mask = y.nonzero()\n",
    "    diff = prediction - y\n",
    "    n_observed = np.count_nonzero(label)\n",
    "    square_diff = np.einsum('BH,BH->B', diff, diff)\n",
    "    loss = np.sqrt(np.sum(square_diff)/ n_observed)\n",
    "    return loss"
   ]
  },
  {
   "cell_type": "code",
   "execution_count": 15,
   "id": "a3b42ffd",
   "metadata": {},
   "outputs": [
    {
     "data": {
      "text/plain": [
       "2.15322168769582"
      ]
     },
     "execution_count": 15,
     "metadata": {},
     "output_type": "execute_result"
    }
   ],
   "source": [
    "loss_result = masked_rmse(prediction, label)\n",
    "loss_result"
   ]
  }
 ],
 "metadata": {
  "kernelspec": {
   "display_name": "Python 3 (ipykernel)",
   "language": "python",
   "name": "python3"
  },
  "language_info": {
   "codemirror_mode": {
    "name": "ipython",
    "version": 3
   },
   "file_extension": ".py",
   "mimetype": "text/x-python",
   "name": "python",
   "nbconvert_exporter": "python",
   "pygments_lexer": "ipython3",
   "version": "3.9.7"
  }
 },
 "nbformat": 4,
 "nbformat_minor": 5
}
